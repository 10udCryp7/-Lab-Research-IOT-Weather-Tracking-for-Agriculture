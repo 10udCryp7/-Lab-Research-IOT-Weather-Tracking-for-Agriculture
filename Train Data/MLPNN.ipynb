{
 "cells": [
  {
   "cell_type": "code",
   "execution_count": null,
   "metadata": {},
   "outputs": [],
   "source": [
    "import pandas as pd\n",
    "import ewtpy\n",
    "import pywt\n",
    "import matplotlib.pyplot as plt\n",
    "import numpy as np\n",
    "import tensorflow as tf\n",
    "from keras.models import Sequential\n",
    "from keras.layers import Dense\n",
    "from sklearn.metrics import mean_squared_error\n",
    "from sklearn.model_selection import train_test_split\n",
    "from sklearn.preprocessing import StandardScaler\n",
    "from keras import initializers"
   ]
  },
  {
   "cell_type": "code",
   "execution_count": null,
   "metadata": {},
   "outputs": [],
   "source": [
    "df = pd.read_csv('data.csv')\n",
    "print(df.to_string())\n",
    "data = df.to_numpy()\n",
    "temp = df['temp'].to_numpy()\n",
    "humidity = df['humidity'].to_numpy()\n",
    "windspeed = df['windspeed'].to_numpy()\n",
    "solar_radiation = df['solarradiation'].to_numpy()\n",
    "precipitation = df['precip'].to_numpy()\n",
    "training_set = np.array([temp, windspeed, solar_radiation, precipitation, humidity])\n",
    "NUM = 12\n"
   ]
  },
  {
   "cell_type": "code",
   "execution_count": null,
   "metadata": {},
   "outputs": [],
   "source": [
    "\n",
    "training_set_tp = training_set.transpose()"
   ]
  },
  {
   "cell_type": "code",
   "execution_count": null,
   "metadata": {},
   "outputs": [],
   "source": [
    "X = training_set_tp\n",
    "y = np.array([humidity]).transpose()\n",
    "print(X.shape)\n",
    "print(y.shape)\n"
   ]
  },
  {
   "cell_type": "code",
   "execution_count": null,
   "metadata": {},
   "outputs": [],
   "source": [
    "X_train, X_test, y_train, y_test = train_test_split(\n",
    "    X, y, test_size=0.2, shuffle=False\n",
    ")\n",
    "y_train_1 = np.array([y_train[i + NUM] for i in range(len(y_train) - NUM)])\n",
    "y_test_1 = np.array([y_test[i + NUM] for i in range(len(y_test) - NUM)])"
   ]
  },
  {
   "cell_type": "code",
   "execution_count": null,
   "metadata": {},
   "outputs": [],
   "source": [
    "model = Sequential(\n",
    "    [\n",
    "        tf.keras.Input(shape=(5,)),\n",
    "        tf.keras.layers.Dense(units = 25, activation = \"relu\", kernel_regularizer=tf.keras.regularizers.L2(0.001)),\n",
    "        tf.keras.layers.Dense(units = 15, activation = \"relu\", kernel_regularizer=tf.keras.regularizers.L2(0.001)),\n",
    "        tf.keras.layers.Dense(units = 5, activation = \"relu\", kernel_regularizer=tf.keras.regularizers.L2(0.001)),\n",
    "        tf.keras.layers.Dense(units = 1, activation = \"linear\")\n",
    "        ### END CODE HERE ### \n",
    "    ], name = \"mlpnn_model\" \n",
    ") \n",
    "model.compile(\n",
    "    loss=tf.keras.losses.MeanSquaredError(),\n",
    "    optimizer=tf.keras.optimizers.Adam(learning_rate = 0.001),\n",
    ")\n",
    "\n",
    "model.fit(\n",
    "    X_train[:-NUM],y_train_1,\n",
    "    epochs=500,   \n",
    ") "
   ]
  },
  {
   "cell_type": "code",
   "execution_count": null,
   "metadata": {},
   "outputs": [],
   "source": [
    "model = Sequential(\n",
    "    [\n",
    "        tf.keras.Input(shape=(5,)),\n",
    "        tf.keras.layers.Dense(units = 1000, activation = \"relu\", kernel_regularizer=tf.keras.regularizers.L2(0.001),kernel_initializer=initializers.RandomNormal(stddev=0.01),\n",
    "    bias_initializer=initializers.Zeros()),\n",
    "        tf.keras.layers.Dense(units = 1, activation = \"linear\")\n",
    "        ### END CODE HERE ### \n",
    "    ], name = \"elm_model\" \n",
    ") \n",
    "model.compile(\n",
    "    loss=tf.keras.losses.MeanSquaredError(),\n",
    "    optimizer=tf.keras.optimizers.Adam(learning_rate = 0.001),\n",
    ")\n",
    "\n",
    "model.fit(\n",
    "    X_train[:-NUM],y_train_1,\n",
    "    epochs=500,   \n",
    ") "
   ]
  },
  {
   "cell_type": "code",
   "execution_count": null,
   "metadata": {},
   "outputs": [],
   "source": [
    "y_predict = model.predict(X_test)\n",
    "yt_predict = model.predict(X_train)\n",
    "plt.scatter (yt_predict[:-NUM,0],y_train_1[:,0])\n",
    "plt.scatter (y_predict[:-NUM,0],y_test_1[:,0])\n",
    "for i in range(len(y_predict) - NUM):\n",
    "    print(f\"predict: {y_predict[i,0]}, test: {y_test_1[i, 0]}\")\n",
    "print(y_predict[:,0])\n",
    "print(np.corrcoef(y_predict[:-NUM,0],y_test_1[:,0]))\n",
    "print(mean_squared_error(y_predict[:-NUM,0], y_test_1[:,0]))\n",
    "print(np.corrcoef(yt_predict[:,0],y_train[:,0]))\n",
    "print(mean_squared_error(yt_predict[:,0], y_train[:,0]))"
   ]
  }
 ],
 "metadata": {
  "kernelspec": {
   "display_name": "Python 3",
   "language": "python",
   "name": "python3"
  },
  "language_info": {
   "codemirror_mode": {
    "name": "ipython",
    "version": 3
   },
   "file_extension": ".py",
   "mimetype": "text/x-python",
   "name": "python",
   "nbconvert_exporter": "python",
   "pygments_lexer": "ipython3",
   "version": "3.11.1"
  }
 },
 "nbformat": 4,
 "nbformat_minor": 2
}
