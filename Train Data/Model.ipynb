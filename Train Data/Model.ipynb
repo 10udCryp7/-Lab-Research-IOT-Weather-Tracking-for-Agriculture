{
 "cells": [
  {
   "cell_type": "code",
   "execution_count": null,
   "metadata": {},
   "outputs": [],
   "source": [
    "import pandas as pd\n",
    "import ewtpy\n",
    "import pywt\n",
    "import matplotlib.pyplot as plt\n",
    "import numpy as np\n",
    "import tensorflow as tf\n",
    "from keras.models import Sequential\n",
    "from keras.layers import Dense\n",
    "from sklearn.metrics import mean_squared_error\n",
    "from sklearn.metrics import mean_absolute_error\n",
    "from sklearn.metrics import accuracy_score\n",
    "\n",
    "\n",
    "from sklearn.model_selection import train_test_split\n",
    "from sklearn.preprocessing import StandardScaler\n",
    "from keras import initializers"
   ]
  },
  {
   "cell_type": "code",
   "execution_count": null,
   "metadata": {},
   "outputs": [],
   "source": [
    "df = pd.read_csv('data_day.csv')\n",
    "print(df.to_string())\n",
    "data = df.to_numpy()\n",
    "temp = df['temp'].to_numpy()\n",
    "temp_max = df['tempmax'].to_numpy()\n",
    "temp_min = df['tempmin'].to_numpy()\n",
    "humidity = df['humidity'].to_numpy()\n",
    "windspeed = df['windspeed'].to_numpy()\n",
    "solar_radiation = df['solarradiation'].to_numpy()\n",
    "precipitation = df['precip'].to_numpy()\n",
    "dew = df['dew'].to_numpy()\n",
    "precipcover = df['precipcover'].to_numpy()\n",
    "winddir = df['winddir'].to_numpy()\n",
    "solarenergy = df['solarenergy'].to_numpy()\n",
    "training_set = np.array([temp_max, temp_min ,solar_radiation, precipitation, windspeed])\n",
    "NUM = 0\n",
    "plt.plot(humidity)"
   ]
  },
  {
   "cell_type": "code",
   "execution_count": null,
   "metadata": {},
   "outputs": [],
   "source": [
    "\n",
    "training_set_tp = training_set.transpose()"
   ]
  },
  {
   "cell_type": "code",
   "execution_count": null,
   "metadata": {},
   "outputs": [],
   "source": [
    "X = training_set_tp\n",
    "y = np.array([humidity]).transpose()\n",
    "print(X.shape)\n",
    "print(y.shape)\n"
   ]
  },
  {
   "cell_type": "code",
   "execution_count": null,
   "metadata": {},
   "outputs": [],
   "source": [
    "X_train, X_test, y_train, y_test = train_test_split(\n",
    "    X, y, test_size=0.3, shuffle=False\n",
    ")\n",
    "save = y_test\n",
    "y_train = np.array([y_train[i + NUM] for i in range(len(y_train) - NUM)])\n",
    "y_test = np.array([y_test[i + NUM] for i in range(len(y_test) - NUM)])"
   ]
  },
  {
   "cell_type": "code",
   "execution_count": null,
   "metadata": {},
   "outputs": [],
   "source": [
    "# model = Sequential(\n",
    "#     [\n",
    "#         tf.keras.Input(shape=(5,)),\n",
    "#         tf.keras.layers.Dense(units = 25, activation = \"relu\"),\n",
    "#         tf.keras.layers.Dense(units = 15, activation = \"relu\"),\n",
    "#         tf.keras.layers.Dense(units = 5, activation = \"relu\"),\n",
    "#         tf.keras.layers.Dense(units = 1, activation = \"linear\")\n",
    "#         ### END CODE HERE ### \n",
    "#     ], name = \"mlpnn_model\" \n",
    "# ) \n",
    "# model.compile(\n",
    "#     loss=tf.keras.losses.MeanSquaredError(),\n",
    "#     optimizer=tf.keras.optimizers.Adam(learning_rate = 0.001),\n",
    "# )\n",
    "# if (NUM != 0):\n",
    "#     X_train = X_train[:-NUM]\n",
    "# else:\n",
    "#     X_train = X_train[:]\n",
    "# print(X_train.shape)\n",
    "# # callback = tf.keras.callbacks.EarlyStopping(monitor='loss', patience=3)\n",
    "# hist_mlpnn = model.fit(\n",
    "#     X_train,y_train,\n",
    "#     epochs=1000,  \n",
    "#     # callbacks = [callback] \n",
    "# ) "
   ]
  },
  {
   "cell_type": "code",
   "execution_count": null,
   "metadata": {},
   "outputs": [],
   "source": [
    "model = Sequential(\n",
    "    [\n",
    "        tf.keras.Input(shape=(5,)),\n",
    "        tf.keras.layers.Dense(units = 1000, activation = \"relu\",kernel_initializer=initializers.RandomNormal(stddev=0.01),\n",
    "    bias_initializer=initializers.Zeros()),\n",
    "        tf.keras.layers.Dense(units = 1, activation = \"linear\")\n",
    "        ### END CODE HERE ### \n",
    "    ], name = \"elm_model\" \n",
    ") \n",
    "model.compile(\n",
    "    loss=tf.keras.losses.MeanSquaredError(),\n",
    "    optimizer=tf.keras.optimizers.Adam(learning_rate = 0.001),\n",
    ")\n",
    "# callback = tf.keras.callbacks.EarlyStopping(monitor='loss', patience=3)\n",
    "if (NUM != 0):\n",
    "    X_train = X_train[:-NUM]\n",
    "else:\n",
    "    X_train = X_train[:]\n",
    "hist_elm = model.fit(\n",
    "    X_train,y_train,\n",
    "    epochs=500,   \n",
    "    # callbacks = [callback]\n",
    ") \n"
   ]
  },
  {
   "cell_type": "code",
   "execution_count": null,
   "metadata": {},
   "outputs": [],
   "source": [
    "yt_predict = model.predict(X_train)\n",
    "y_predict = model.predict(X_test)\n",
    "if (NUM != 0):\n",
    "    y_predict = y_predict[:-NUM]\n",
    "    # yt_predict = yt_predict[:-NUM]\n",
    "plt.scatter(yt_predict[:,0],y_train[:,0])\n",
    "plt.scatter(y_predict[:,0],y_test[:,0])\n",
    "for i in range(len(y_predict) - NUM):\n",
    "    print(f\"predict: {y_predict[i,0]}, test: {y_test[i, 0]}\")\n",
    "\n",
    "print(\"TRAIN DETAIL\")\n",
    "print(f\"R: {np.corrcoef(yt_predict[:,0],y_train[:,0])}\")\n",
    "print(f\"RMSE: {mean_squared_error(y_train[:,0],yt_predict[:,0])**(1/2)}\")\n",
    "print(f\"MAE: {mean_absolute_error(y_train[:,0],yt_predict[:,0])}\")\n",
    "# print(f\"SCORE: {accuracy_score(y_train[:,0],yt_predict[:,0])}\")\n",
    "mt, bt = np.polyfit(yt_predict[:,0],y_train[:,0], 1)\n",
    "plt.plot(yt_predict[:,0], mt*yt_predict[:,0]+bt, color = \"yellow\")\n",
    "#add linear regression line to scatterplot \n",
    "print(\"TEST DETAIL\")\n",
    "print(f\"R: {np.corrcoef(y_predict[:,0],y_test[:,0])}\")\n",
    "print(f\"RMSE: {mean_squared_error(y_test[:,0],y_predict[:,0])**(1/2)}\")\n",
    "print(f\"MAE: {mean_absolute_error(y_test[:,0],y_predict[:,0])}\")\n",
    "# print(f\"SCORE: {accuracy_score(y_test[:,0],y_predict[:,0])}\")\n",
    "m, b = np.polyfit(y_predict[:,0],y_test[:,0], 1)\n",
    "plt.plot(y_predict[:,0], m*y_predict[:,0]+b, color = \"red\")\n"
   ]
  },
  {
   "cell_type": "code",
   "execution_count": null,
   "metadata": {},
   "outputs": [],
   "source": [
    "# plt.plot(history.history['loss'][200:500])\n",
    "# print(history.history[\"loss\"][400:500])\n",
    "plt.plot(hist_elm.history['loss'][0:500])"
   ]
  }
 ],
 "metadata": {
  "kernelspec": {
   "display_name": "Python 3",
   "language": "python",
   "name": "python3"
  },
  "language_info": {
   "codemirror_mode": {
    "name": "ipython",
    "version": 3
   },
   "file_extension": ".py",
   "mimetype": "text/x-python",
   "name": "python",
   "nbconvert_exporter": "python",
   "pygments_lexer": "ipython3",
   "version": "3.11.1"
  }
 },
 "nbformat": 4,
 "nbformat_minor": 2
}
