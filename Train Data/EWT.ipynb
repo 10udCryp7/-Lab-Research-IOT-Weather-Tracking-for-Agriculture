{
 "cells": [
  {
   "cell_type": "code",
   "execution_count": null,
   "metadata": {},
   "outputs": [],
   "source": [
    "import pandas as pd\n",
    "import ewtpy\n",
    "import pywt\n",
    "import matplotlib.pyplot as plt\n",
    "import numpy as np\n",
    "import tensorflow as tf\n",
    "from keras.models import Sequential\n",
    "from keras.layers import Dense\n",
    "from sklearn.metrics import mean_squared_error\n",
    "from sklearn.model_selection import train_test_split"
   ]
  },
  {
   "cell_type": "code",
   "execution_count": null,
   "metadata": {},
   "outputs": [],
   "source": [
    "df = pd.read_csv('data.csv')\n",
    "print(df.to_string())\n",
    "data = df.to_numpy()\n",
    "temp = df['temp'].to_numpy()\n",
    "humidity = df['humidity'].to_numpy()\n",
    "windspeed = df['windspeed'].to_numpy()\n",
    "solar_radiation = df['solarradiation'].to_numpy()\n",
    "precipitation = df['precip'].to_numpy()\n",
    "print(data)"
   ]
  },
  {
   "cell_type": "code",
   "execution_count": null,
   "metadata": {},
   "outputs": [],
   "source": [
    "def decompose_to_ewt(data):\n",
    "    temp_data,  mfb ,boundaries = ewtpy.EWT1D(data, N = 5)\n",
    "    return temp_data, mfb, boundaries\n",
    "def split_mode(ewt):\n",
    "    modes = [[],[],[],[],[]]\n",
    "    for i in range(5):\n",
    "        modes[i] = [m for m in ewt[:,i]]\n",
    "    return modes\n",
    "print(temp)"
   ]
  },
  {
   "cell_type": "code",
   "execution_count": null,
   "metadata": {},
   "outputs": [],
   "source": [
    "temp_ewt,_,_ = decompose_to_ewt(temp)\n",
    "plt.plot(temp_ewt)\n",
    "windspeed_ewt,_,_ = decompose_to_ewt(windspeed)\n",
    "solar_radiation_ewt,_,_ = decompose_to_ewt(solar_radiation)\n",
    "precipitation_ewt,_,_ = decompose_to_ewt(precipitation)\n",
    "humidity_ewt,_,_ = decompose_to_ewt(humidity)\n",
    "data_ewt = [temp_ewt, windspeed_ewt, solar_radiation_ewt, precipitation_ewt]\n",
    "print(np.shape(data_ewt))"
   ]
  },
  {
   "cell_type": "code",
   "execution_count": null,
   "metadata": {},
   "outputs": [],
   "source": [
    "X = np.array(data_ewt)\n",
    "y = np.array(humidity_ewt)\n",
    "print(X.shape)\n",
    "print(y.shape)\n",
    "X = np.transpose(X,(1,2,0))\n",
    "# y = np.transpose(y)\n",
    "print(X.shape)\n",
    "print(y.shape)\n",
    "X_train, X_test, y_train, y_test = train_test_split(\n",
    "    X, y, test_size=0.3, shuffle=False\n",
    ")\n",
    "print(X_train.shape)\n",
    "print(y_train.shape)\n",
    "print(X)\n"
   ]
  },
  {
   "cell_type": "code",
   "execution_count": null,
   "metadata": {},
   "outputs": [],
   "source": [
    "model = Sequential(\n",
    "    [\n",
    "        tf.keras.Input(shape=(5,4,)),\n",
    "        tf.keras.layers.Dense(units = 25, activation = \"relu\"),\n",
    "        tf.keras.layers.Dense(units = 15, activation = \"relu\"),\n",
    "        tf.keras.layers.Dense(units = 5, activation = \"relu\"),\n",
    "        tf.keras.layers.Dense(units = 1, activation = \"linear\")\n",
    "        ### END CODE HERE ### \n",
    "    ], name = \"my_model\" \n",
    ") \n",
    "\n",
    "model.compile(\n",
    "    loss=tf.keras.losses.MeanSquaredError(),\n",
    "    optimizer=tf.keras.optimizers.Adam(learning_rate = 0.001),\n",
    ")\n",
    "\n",
    "model.fit(\n",
    "    X_train,y_train,\n",
    "    epochs=500,   \n",
    ") "
   ]
  },
  {
   "cell_type": "code",
   "execution_count": null,
   "metadata": {},
   "outputs": [],
   "source": [
    "# print(X)\n",
    "print(X.shape)\n",
    "y_predict = model.predict(X_test)\n",
    "print(y_predict)\n",
    "print(0)\n",
    "print(y_predict[0])\n",
    "print(y_predict[:,0,0])\n",
    "print(y_test[:,0])\n",
    "plt.scatter (y_predict[:,0,0],y_test[:,0])\n",
    "for i in range(len(y_predict)):\n",
    "    print(f\"predict: {y_predict[i, 0,0]}, test: {y_test[i, 0]}\")\n",
    "print(y_predict[:,0,0])\n",
    "print(np.corrcoef(y_predict[:,0,0],y_test[:, 0]))\n",
    "print(mean_squared_error(y_predict[:, 0,0], y_test[:, 0]))"
   ]
  }
 ],
 "metadata": {
  "kernelspec": {
   "display_name": "Python 3",
   "language": "python",
   "name": "python3"
  },
  "language_info": {
   "codemirror_mode": {
    "name": "ipython",
    "version": 3
   },
   "file_extension": ".py",
   "mimetype": "text/x-python",
   "name": "python",
   "nbconvert_exporter": "python",
   "pygments_lexer": "ipython3",
   "version": "3.11.1"
  }
 },
 "nbformat": 4,
 "nbformat_minor": 2
}
