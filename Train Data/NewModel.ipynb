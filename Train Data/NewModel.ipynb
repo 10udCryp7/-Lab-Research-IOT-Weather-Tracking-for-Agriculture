{
 "cells": [
  {
   "cell_type": "code",
   "execution_count": null,
   "metadata": {},
   "outputs": [],
   "source": [
    "# IMPORT\n",
    "import os\n",
    "import datetime\n",
    "\n",
    "import IPython\n",
    "import IPython.display\n",
    "import matplotlib as mpl\n",
    "import matplotlib.pyplot as plt\n",
    "import numpy as np\n",
    "import pandas as pd\n",
    "import seaborn as sns\n",
    "import tensorflow as tf\n",
    "\n",
    "mpl.rcParams['figure.figsize'] = (10, 6)\n",
    "mpl.rcParams['axes.grid'] = False"
   ]
  },
  {
   "cell_type": "code",
   "execution_count": null,
   "metadata": {},
   "outputs": [],
   "source": [
    "# DATA\n",
    "df1 = pd.read_csv('data_day.csv')\n",
    "df2 = pd.read_csv('data_2018-08-05_2021-04-30.csv')\n",
    "df3 = pd.read_csv('data_2018-05-05_2018-08-04.csv')\n",
    "df4 = pd.read_csv('data_2015-08-09_2018-05-04.csv')\n",
    "df5 = pd.read_csv('data_2013-02-12_2015-08-08.csv')\n",
    "df6 = pd.read_csv('data_2010-05-19_to_2013-02-11.csv')\n",
    "df7 = pd.read_csv('data_2007-08-23_to_2010-05-18.csv')\n",
    "df8 = pd.read_csv('data_2004-11-26_to_2007-08-22.csv')\n",
    "df = pd.concat([df6, df5, df4, df3, df2, df1])\n",
    "\n",
    "df.head()"
   ]
  },
  {
   "cell_type": "code",
   "execution_count": null,
   "metadata": {},
   "outputs": [],
   "source": [
    "# POP DATA\n",
    "\n",
    "date_time = pd.concat([pd.to_datetime(df['datetime'][0:4000]),pd.to_datetime(df['datetime'][4000:])])\n",
    "try:\n",
    "    df.pop('datetime')\n",
    "except:\n",
    "    print(\"time popped\")\n",
    "try:\n",
    "    df.pop('name')\n",
    "except:\n",
    "    print(\"name popped\")\n",
    "df.columns"
   ]
  },
  {
   "cell_type": "code",
   "execution_count": null,
   "metadata": {},
   "outputs": [],
   "source": [
    "# EVOLUTION OF SOME FEATURES\n",
    "# plot_cols = ['Temp (degC)', 'Humidity (%)', 'Precipitation (mm)', 'Windspeed (m/s)', 'Solarradiation (kWh/m2)']\n",
    "plot_cols = ['temp', 'humidity', 'precip', 'windspeed', 'solarradiation']\n",
    "plot_features = df[plot_cols]\n",
    "\n",
    "# Change index to date_time\n",
    "plot_features.index = date_time\n",
    "plot_features.plot(subplots=True)\n",
    "\n",
    "plot_features = df[plot_cols][-365:-1]\n",
    "plot_features.index = date_time[-365:-1]\n",
    "plot_features.plot(subplots=True)"
   ]
  },
  {
   "cell_type": "code",
   "execution_count": null,
   "metadata": {},
   "outputs": [],
   "source": [
    "# STATISTIC OF DATASET\n",
    "df.describe().transpose()"
   ]
  },
  {
   "cell_type": "code",
   "execution_count": null,
   "metadata": {},
   "outputs": [],
   "source": [
    "# TIMESTAMP\n",
    "\n",
    "# Map values of Series according to an input mapping or function.\n",
    "# Used for substituting each value in a Series with another value, that may be derived from a function, \n",
    "# a dict or a Series.\n",
    "timestamp_s = date_time.map(pd.Timestamp.timestamp)\n",
    "timestamp_s.index = range(0,4996)\n",
    "timestamp_s[1] - timestamp_s[0]\n"
   ]
  },
  {
   "cell_type": "markdown",
   "metadata": {},
   "source": [
    "The time in seconds is not a useful model input. Being weather data, it has clear daily and yearly periodicity. There are many ways you could deal with periodicity.\n",
    "\n",
    "You can get usable signals by using sine and cosine transforms to clear \"Time of day\" and \"Time of year\" signals\n",
    "\n",
    "This gives the model access to the most important frequency features. In this case you knew ahead of time which frequencies were important"
   ]
  },
  {
   "cell_type": "code",
   "execution_count": null,
   "metadata": {},
   "outputs": [],
   "source": [
    "# PERIOD TIME\n",
    "\n",
    "day = 24*60*60\n",
    "year = (365.2425)*day\n",
    "# df['Day sin'] = np.sin(timestamp_s * (2 * np.pi / day))\n",
    "# df['Day cos'] = np.cos(timestamp_s * (2 * np.pi / day))\n",
    "df['Year sin'] = np.sin(timestamp_s * (2 * np.pi / year))\n",
    "df['Year cos'] = np.cos(timestamp_s * (2 * np.pi / year))\n",
    "\n",
    "# plt.plot(np.array(df['Year sin'])[:366])\n",
    "plt.plot(np.array(df['Year cos'])[:])\n",
    "plt.xlabel('Time [day]')\n",
    "plt.title('Time of year signal')"
   ]
  },
  {
   "cell_type": "code",
   "execution_count": null,
   "metadata": {},
   "outputs": [],
   "source": [
    "fft = tf.signal.rfft(df['temp'])\n",
    "f_per_dataset = np.arange(0, len(fft))\n",
    "\n",
    "n_samples_day = len(df['temp'])\n",
    "days_per_year = 365.2524\n",
    "years_per_dataset = n_samples_day/(days_per_year)\n",
    "\n",
    "f_per_year = f_per_dataset/years_per_dataset\n",
    "plt.step(f_per_year, np.abs(fft))\n",
    "plt.xscale('log')\n",
    "plt.ylim(0, 40000)\n",
    "plt.xlim([0.1, max(plt.xlim())])\n",
    "plt.xticks([1, 365.2524], labels=['1/Year', '1/day'])\n",
    "_ = plt.xlabel('Frequency (log scale)')"
   ]
  }
 ],
 "metadata": {
  "kernelspec": {
   "display_name": "Python 3",
   "language": "python",
   "name": "python3"
  },
  "language_info": {
   "codemirror_mode": {
    "name": "ipython",
    "version": 3
   },
   "file_extension": ".py",
   "mimetype": "text/x-python",
   "name": "python",
   "nbconvert_exporter": "python",
   "pygments_lexer": "ipython3",
   "version": "3.11.1"
  }
 },
 "nbformat": 4,
 "nbformat_minor": 2
}
